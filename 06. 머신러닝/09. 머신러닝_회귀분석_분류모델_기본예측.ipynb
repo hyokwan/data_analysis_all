{
  "nbformat": 4,
  "nbformat_minor": 0,
  "metadata": {
    "colab": {
      "provenance": []
    },
    "kernelspec": {
      "name": "python3",
      "display_name": "Python 3"
    },
    "language_info": {
      "name": "python"
    }
  },
  "cells": [
    {
      "cell_type": "markdown",
      "source": [
        "# 라이브러리 선언"
      ],
      "metadata": {
        "id": "RfPsyL62vFsH"
      }
    },
    {
      "cell_type": "code",
      "source": [
        "# 행과열을 다루는 라이브러리\n",
        "import pandas as pd\n",
        "import numpy as np\n",
        "\n",
        "# 시각화 라이브러리\n",
        "import matplotlib.pyplot as plt\n",
        "## 머신러닝 모델\n",
        "from sklearn import neighbors, svm, tree, ensemble\n",
        "\n",
        "# 머신러닝 전처리 라이브러리\n",
        "from sklearn.preprocessing import MinMaxScaler\n",
        "\n",
        "# 머신러닝 정확도 지표 라이브러리\n",
        "from sklearn.metrics import classification_report"
      ],
      "metadata": {
        "id": "8W0y5UoivHrl"
      },
      "execution_count": 1,
      "outputs": []
    },
    {
      "cell_type": "markdown",
      "source": [
        "# 데이터 불러오기"
      ],
      "metadata": {
        "id": "gh0wZlb3vfJJ"
      }
    },
    {
      "cell_type": "code",
      "source": [
        "csDataUrl = \"https://raw.githubusercontent.com/hyokwan/python-lecture/master/dataset/customer.csv\"\n",
        "csData = pd.read_csv(csDataUrl)\n",
        "# 1. 타입 통합 및 숫자형컬럼 추가\n",
        "csData.columns = csData.columns.str.upper()\n",
        "balScaler = MinMaxScaler()\n",
        "stockScaler = MinMaxScaler()\n",
        "\n",
        "## 특성값 스케일링 (BALANCE, STOCK)\n",
        "targetColumns = [\"BALANCE\"]\n",
        "csData[\"SC_BALANCE\"] = balScaler.fit_transform( csData.loc[:, targetColumns ])\n",
        "targetColumns = [\"STOCK\"]\n",
        "csData[\"SC_STOCK\"] = stockScaler.fit_transform( csData.loc[:, targetColumns ])\n",
        "csData\n",
        "\n",
        "## 정답지 LABEL ENCODER\n",
        "csDict = {\"normal\":0,\n",
        "          \"diamond\":1,\n",
        "          \"vip\":2}\n",
        "csData[\"LE_LABEL\"] = csData.LABEL.map(csDict)"
      ],
      "metadata": {
        "id": "1EXHpIsvv1VY"
      },
      "execution_count": 2,
      "outputs": []
    },
    {
      "cell_type": "code",
      "source": [
        "# list( csData.select_dtypes(np.number).columns )"
      ],
      "metadata": {
        "id": "oR6qN57k3tb8"
      },
      "execution_count": 3,
      "outputs": []
    },
    {
      "cell_type": "markdown",
      "source": [
        "# 2. 특성선정 및 데이터 분리"
      ],
      "metadata": {
        "id": "W1b2vY0M8Cl-"
      }
    },
    {
      "cell_type": "code",
      "source": [
        "stdCorr = 0.5"
      ],
      "metadata": {
        "id": "TfNdYZKVCD2B"
      },
      "execution_count": 4,
      "outputs": []
    },
    {
      "cell_type": "code",
      "source": [
        "corrDf = csData.corr(numeric_only=True)"
      ],
      "metadata": {
        "id": "toxVKGoR0Yl1"
      },
      "execution_count": 5,
      "outputs": []
    },
    {
      "cell_type": "code",
      "source": [
        "features = list( corrDf.loc[ ( corrDf.LE_LABEL >= stdCorr ) &\n",
        "            ( corrDf.LE_LABEL != 1) ].index )"
      ],
      "metadata": {
        "id": "3DEGblBRza8L"
      },
      "execution_count": 6,
      "outputs": []
    },
    {
      "cell_type": "code",
      "source": [
        "preFix = \"SC\""
      ],
      "metadata": {
        "id": "xzKRSk738iEz"
      },
      "execution_count": 7,
      "outputs": []
    },
    {
      "cell_type": "code",
      "source": [
        "featuresNew = []"
      ],
      "metadata": {
        "id": "tXrw-Xkl9DIp"
      },
      "execution_count": 8,
      "outputs": []
    },
    {
      "cell_type": "code",
      "source": [
        "for i in range(0, len(features)):\n",
        "    if features[i].count(preFix) > 0:\n",
        "        featuresNew.append(features[i])\n",
        "    else:\n",
        "        pass"
      ],
      "metadata": {
        "id": "vCsFGzKB8oSI"
      },
      "execution_count": 9,
      "outputs": []
    },
    {
      "cell_type": "code",
      "source": [
        "features = featuresNew.copy()\n",
        "label = [\"LABEL\"]"
      ],
      "metadata": {
        "id": "Lh3fJzir9LLR"
      },
      "execution_count": 10,
      "outputs": []
    },
    {
      "cell_type": "code",
      "source": [
        "from sklearn.model_selection import train_test_split"
      ],
      "metadata": {
        "id": "MRDkNbvi--M1"
      },
      "execution_count": 11,
      "outputs": []
    },
    {
      "cell_type": "code",
      "source": [
        "### 데이터분리\n",
        "trainData, testData = train_test_split( csData, test_size=0.2, random_state=1)\n",
        "trainingDataFeatures = trainData.loc[ :, features]\n",
        "trainingDataLabel = trainData.loc[ :, label]\n",
        "testDataFeatures = testData.loc[ :, features]\n",
        "testDataLabel = testData.loc[ :, label]\n",
        "print(trainingDataFeatures.shape)\n",
        "print(trainingDataLabel.shape)\n",
        "print(testDataFeatures.shape)\n",
        "print(testDataLabel.shape)"
      ],
      "metadata": {
        "colab": {
          "base_uri": "https://localhost:8080/"
        },
        "id": "V3tGSRYE-53W",
        "outputId": "6eaeafce-6f69-468c-addd-7facb881af6e"
      },
      "execution_count": 12,
      "outputs": [
        {
          "output_type": "stream",
          "name": "stdout",
          "text": [
            "(16000, 2)\n",
            "(16000, 1)\n",
            "(4000, 2)\n",
            "(4000, 1)\n"
          ]
        }
      ]
    },
    {
      "cell_type": "markdown",
      "source": [
        "# 3. 모델 선언 및 학습"
      ],
      "metadata": {
        "id": "P9jxluvEvmsJ"
      }
    },
    {
      "cell_type": "code",
      "source": [
        "knnModel = neighbors.KNeighborsClassifier(n_neighbors=5)\n",
        "fittedKnnModel = knnModel.fit( trainingDataFeatures, trainingDataLabel )"
      ],
      "metadata": {
        "colab": {
          "base_uri": "https://localhost:8080/"
        },
        "id": "XZXm_Y6f9peE",
        "outputId": "a1920842-521b-4f90-e172-2d058ddd733f"
      },
      "execution_count": 13,
      "outputs": [
        {
          "output_type": "stream",
          "name": "stderr",
          "text": [
            "/usr/local/lib/python3.10/dist-packages/sklearn/neighbors/_classification.py:233: DataConversionWarning: A column-vector y was passed when a 1d array was expected. Please change the shape of y to (n_samples,), for example using ravel().\n",
            "  return self._fit(X, y)\n"
          ]
        }
      ]
    },
    {
      "cell_type": "markdown",
      "source": [
        "# 4. 예측"
      ],
      "metadata": {
        "id": "iX6BQtnvvpKi"
      }
    },
    {
      "cell_type": "code",
      "source": [
        "# csData.BALANCE.min()\n",
        "# csData.STOCK.min()"
      ],
      "metadata": {
        "id": "rMJUD_4YAFDz"
      },
      "execution_count": 14,
      "outputs": []
    },
    {
      "cell_type": "code",
      "source": [
        "inBalance = 30000000\n",
        "inStock = 17500000"
      ],
      "metadata": {
        "id": "aTvuA9pkAOcR"
      },
      "execution_count": 15,
      "outputs": []
    },
    {
      "cell_type": "code",
      "source": [
        "knnPredictValue = fittedKnnModel.predict( testDataFeatures )"
      ],
      "metadata": {
        "id": "fm4yp8J6ABqS"
      },
      "execution_count": 16,
      "outputs": []
    },
    {
      "cell_type": "markdown",
      "source": [
        "# 5. 데이터 정리"
      ],
      "metadata": {
        "id": "Z6gZQRmwvq_h"
      }
    },
    {
      "cell_type": "code",
      "source": [
        "testDataLabel[\"KNN_PREDICT\"] = knnPredictValue\n",
        "print( classification_report( testDataLabel.LABEL, testDataLabel.KNN_PREDICT ) )"
      ],
      "metadata": {
        "colab": {
          "base_uri": "https://localhost:8080/"
        },
        "id": "x-md1rKjvuEB",
        "outputId": "431d6785-abdb-4c6c-9c56-428e660e9f50"
      },
      "execution_count": 17,
      "outputs": [
        {
          "output_type": "stream",
          "name": "stdout",
          "text": [
            "              precision    recall  f1-score   support\n",
            "\n",
            "     diamond       1.00      1.00      1.00      2346\n",
            "      normal       0.99      0.99      0.99      1188\n",
            "         vip       1.00      0.99      0.99       466\n",
            "\n",
            "    accuracy                           0.99      4000\n",
            "   macro avg       1.00      0.99      0.99      4000\n",
            "weighted avg       0.99      0.99      0.99      4000\n",
            "\n"
          ]
        }
      ]
    }
  ]
}