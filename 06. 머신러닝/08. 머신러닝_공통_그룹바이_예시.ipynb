{
  "nbformat": 4,
  "nbformat_minor": 0,
  "metadata": {
    "colab": {
      "provenance": []
    },
    "kernelspec": {
      "name": "python3",
      "display_name": "Python 3"
    },
    "language_info": {
      "name": "python"
    }
  },
  "cells": [
    {
      "cell_type": "markdown",
      "source": [
        "# 라이브러리 선언"
      ],
      "metadata": {
        "id": "M18oFil6tZ85"
      }
    },
    {
      "cell_type": "code",
      "source": [
        "import pandas as pd\n",
        "import numpy as np"
      ],
      "metadata": {
        "id": "QqwoqGCPVJLL"
      },
      "execution_count": 77,
      "outputs": []
    },
    {
      "cell_type": "markdown",
      "source": [
        "# 데이터 불러오기"
      ],
      "metadata": {
        "id": "RGh_YRwItc57"
      }
    },
    {
      "cell_type": "code",
      "source": [
        "selloutData = pd.read_csv(\"https://raw.githubusercontent.com/hyokwan/python-lecture/master/dataset/kopo_decision_tree_all_new.csv\")\n"
      ],
      "metadata": {
        "id": "6u0zUTpJtcWl"
      },
      "execution_count": 76,
      "outputs": []
    },
    {
      "cell_type": "markdown",
      "source": [
        "### 1. 타입 통합 및 특성 숫자변경"
      ],
      "metadata": {
        "id": "m9rjHHCStmga"
      }
    },
    {
      "cell_type": "code",
      "source": [
        "ynDict = {\"Y\":1, \"N\":0}\n",
        "selloutData[\"LE_PROMOTION\"] = selloutData.PROMOTION.map(ynDict)\n",
        "selloutData[\"LE_HOLIDAY\"] = selloutData.HOLIDAY.map(ynDict)"
      ],
      "metadata": {
        "id": "L63gSJb0tfSb"
      },
      "execution_count": 78,
      "outputs": []
    },
    {
      "cell_type": "markdown",
      "source": [
        "### 머신러닝 구동 전 가능성 확인 및 데이터 정제"
      ],
      "metadata": {
        "id": "nHsDQVzttooA"
      }
    },
    {
      "cell_type": "code",
      "source": [
        "\n",
        "# 각 지역, 아이템별로 판매건수를 구해보자!!!\n",
        "groupKey = [\"REGIONID\",\"ITEM\"]\n",
        "groupData = selloutData.groupby(by=groupKey)[\"YEARWEEK\"].agg([\"size\"]).reset_index()\n",
        "groupData = groupData.rename(columns = {\"size\":\"MAX_KNOB\"})\n",
        "joinKey = [\"REGIONID\",\"ITEM\"]\n",
        "mergedData = pd.merge( left = selloutData, right=groupData, on=joinKey )\n",
        "stdMaxKnob = 53\n",
        "## 머신러닝 제외 아이템 선별\n",
        "dropData = mergedData.loc [mergedData.MAX_KNOB < stdMaxKnob]\n",
        "targetItem = [\"REGIONID\",\"ITEM\"]\n",
        "exceptItemDf = dropData.loc[ :, targetItem ].drop_duplicates()\n",
        "exceptItemDf.to_csv(\"exceptItemList.csv\")\n",
        "## 머신러닝 대상 아이템 선별\n",
        "refinedData = mergedData.loc [mergedData.MAX_KNOB >= stdMaxKnob]\n",
        "refinedData.reset"
      ],
      "metadata": {
        "id": "OxRILwZmtlZi"
      },
      "execution_count": null,
      "outputs": []
    },
    {
      "cell_type": "code",
      "source": [
        "# refinedData.groupby(groupKey).머신러닝 함수!!!"
      ],
      "metadata": {
        "id": "pzBI_IzSjZSr"
      },
      "execution_count": 56,
      "outputs": []
    },
    {
      "cell_type": "code",
      "source": [
        "def mlGroup(eachGroup):\n",
        "    # eachGroup = groupData.get_group(  list(groupData.groups)[0] )\n",
        "    #### 기존 머신러닝 모델 구현 Start\n",
        "    ### 모델을 구현하세요 (디버깅 상태에서 구현 필수!)\n",
        "    eachGroup[\"DT_PREDICT\"] = 10\n",
        "    return eachGroup\n",
        "    #### 기존 머신러닝 모델 구현 End"
      ],
      "metadata": {
        "id": "TfGAPOKdkNwc"
      },
      "execution_count": 69,
      "outputs": []
    },
    {
      "cell_type": "code",
      "source": [
        "groupKey = [\"REGIONID\",\"ITEM\"]"
      ],
      "metadata": {
        "id": "eLjw3LsUty6m"
      },
      "execution_count": null,
      "outputs": []
    },
    {
      "cell_type": "code",
      "source": [
        "groupMlResult = refinedData.groupby(groupKey).apply(mlGroup)"
      ],
      "metadata": {
        "id": "KAC7xoVKjuU4"
      },
      "execution_count": 71,
      "outputs": []
    },
    {
      "cell_type": "code",
      "source": [
        "groupMlResult = groupMlResult.reset_index(drop=True)"
      ],
      "metadata": {
        "id": "8WszkXjkkv1K"
      },
      "execution_count": 74,
      "outputs": []
    }
  ]
}