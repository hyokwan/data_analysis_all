{
  "nbformat": 4,
  "nbformat_minor": 0,
  "metadata": {
    "colab": {
      "provenance": []
    },
    "kernelspec": {
      "name": "python3",
      "display_name": "Python 3"
    },
    "language_info": {
      "name": "python"
    }
  },
  "cells": [
    {
      "cell_type": "code",
      "source": [
        "!pip install uvicorn\n",
        "!pip install fastapi\n",
        "!pip install nest-asyncio pyngrok"
      ],
      "metadata": {
        "colab": {
          "base_uri": "https://localhost:8080/"
        },
        "id": "OCH5kGZG9L7V",
        "outputId": "f0b74fc4-4b51-4ca9-8849-2d8e0fb9d2ee"
      },
      "execution_count": null,
      "outputs": [
        {
          "output_type": "stream",
          "name": "stdout",
          "text": [
            "Requirement already satisfied: uvicorn in /usr/local/lib/python3.10/dist-packages (0.30.5)\n",
            "Requirement already satisfied: click>=7.0 in /usr/local/lib/python3.10/dist-packages (from uvicorn) (8.1.7)\n",
            "Requirement already satisfied: h11>=0.8 in /usr/local/lib/python3.10/dist-packages (from uvicorn) (0.14.0)\n",
            "Requirement already satisfied: typing-extensions>=4.0 in /usr/local/lib/python3.10/dist-packages (from uvicorn) (4.12.2)\n",
            "Requirement already satisfied: fastapi in /usr/local/lib/python3.10/dist-packages (0.112.0)\n",
            "Requirement already satisfied: starlette<0.38.0,>=0.37.2 in /usr/local/lib/python3.10/dist-packages (from fastapi) (0.37.2)\n",
            "Requirement already satisfied: pydantic!=1.8,!=1.8.1,!=2.0.0,!=2.0.1,!=2.1.0,<3.0.0,>=1.7.4 in /usr/local/lib/python3.10/dist-packages (from fastapi) (2.8.2)\n",
            "Requirement already satisfied: typing-extensions>=4.8.0 in /usr/local/lib/python3.10/dist-packages (from fastapi) (4.12.2)\n",
            "Requirement already satisfied: annotated-types>=0.4.0 in /usr/local/lib/python3.10/dist-packages (from pydantic!=1.8,!=1.8.1,!=2.0.0,!=2.0.1,!=2.1.0,<3.0.0,>=1.7.4->fastapi) (0.7.0)\n",
            "Requirement already satisfied: pydantic-core==2.20.1 in /usr/local/lib/python3.10/dist-packages (from pydantic!=1.8,!=1.8.1,!=2.0.0,!=2.0.1,!=2.1.0,<3.0.0,>=1.7.4->fastapi) (2.20.1)\n",
            "Requirement already satisfied: anyio<5,>=3.4.0 in /usr/local/lib/python3.10/dist-packages (from starlette<0.38.0,>=0.37.2->fastapi) (3.7.1)\n",
            "Requirement already satisfied: idna>=2.8 in /usr/local/lib/python3.10/dist-packages (from anyio<5,>=3.4.0->starlette<0.38.0,>=0.37.2->fastapi) (3.7)\n",
            "Requirement already satisfied: sniffio>=1.1 in /usr/local/lib/python3.10/dist-packages (from anyio<5,>=3.4.0->starlette<0.38.0,>=0.37.2->fastapi) (1.3.1)\n",
            "Requirement already satisfied: exceptiongroup in /usr/local/lib/python3.10/dist-packages (from anyio<5,>=3.4.0->starlette<0.38.0,>=0.37.2->fastapi) (1.2.2)\n",
            "Requirement already satisfied: nest-asyncio in /usr/local/lib/python3.10/dist-packages (1.6.0)\n",
            "Collecting pyngrok\n",
            "  Downloading pyngrok-7.2.0-py3-none-any.whl.metadata (7.4 kB)\n",
            "Requirement already satisfied: PyYAML>=5.1 in /usr/local/lib/python3.10/dist-packages (from pyngrok) (6.0.1)\n",
            "Downloading pyngrok-7.2.0-py3-none-any.whl (22 kB)\n",
            "Installing collected packages: pyngrok\n",
            "Successfully installed pyngrok-7.2.0\n"
          ]
        }
      ]
    },
    {
      "cell_type": "markdown",
      "source": [
        "### 라이브러리 선언"
      ],
      "metadata": {
        "id": "PRsM3Noh-CjN"
      }
    },
    {
      "cell_type": "code",
      "execution_count": null,
      "metadata": {
        "id": "Zi_2czHx7uUj"
      },
      "outputs": [],
      "source": [
        "import pandas as pd\n",
        "import numpy as np\n",
        "# 서버 관리용 fastapi 의존 라이브러리\n",
        "import uvicorn\n",
        "# 비동기형 통신 파이썬 라이브러리\n",
        "from fastapi import FastAPI\n",
        "# API 연계 데이터 정의\n",
        "from pydantic import BaseModel"
      ]
    },
    {
      "cell_type": "code",
      "source": [
        "from fastapi.middleware.cors import CORSMiddleware\n",
        "origins = [\"*\"]\n",
        "\n",
        "app = FastAPI(title=\"ML API\")\n",
        "\n",
        "# CORS 미들웨어 추가\n",
        "app.add_middleware(\n",
        "    CORSMiddleware,\n",
        "    allow_origins=[\"*\"],  # 모든 origin 허용\n",
        "    allow_credentials=True,\n",
        "    allow_methods=[\"GET\", \"POST\", \"PUT\", \"DELETE\"],\n",
        "    allow_headers=[\"*\"],\n",
        ")"
      ],
      "metadata": {
        "id": "LiQXC4sA-CEZ"
      },
      "execution_count": null,
      "outputs": []
    },
    {
      "cell_type": "code",
      "source": [
        "import pickle"
      ],
      "metadata": {
        "id": "Pk6lNs41_KdX"
      },
      "execution_count": null,
      "outputs": []
    },
    {
      "cell_type": "markdown",
      "source": [
        "### 1. 모델 불러오기"
      ],
      "metadata": {
        "id": "nceBnxR7-WWX"
      }
    },
    {
      "cell_type": "code",
      "source": [
        "with open (\"coreDtModel.pickle\",\"rb\") as fr:\n",
        "    loadedModelData = pickle.load(fr)\n",
        "loadedModelData\n",
        "loadedModel = loadedModelData[\"model\"]\n",
        "features = loadedModelData[\"feature\"]\n",
        "label = loadedModelData[\"label\"]\n",
        "preprocessing = loadedModelData[\"preprocessing\"]\n",
        "inHclus = 1\n",
        "inPropercent = 0.4\n",
        "inPromotion = \"Y\"\n",
        "inHoliday = \"N\"\n",
        "ynDict = preprocessing[2]\n",
        "inPromotion = ynDict[ inPromotion ]\n",
        "inHoliday = ynDict[ inHoliday ]\n",
        "testDf = pd.DataFrame([[ inHclus, inPropercent, inPromotion, inHoliday]])\n",
        "predictValue = loadedModel.predict(testDf)[0]"
      ],
      "metadata": {
        "colab": {
          "base_uri": "https://localhost:8080/"
        },
        "id": "PkCwcZXM-6DD",
        "outputId": "4c80a76e-3fea-4ab7-b5b7-59a74adbb445"
      },
      "execution_count": null,
      "outputs": [
        {
          "output_type": "stream",
          "name": "stderr",
          "text": [
            "/usr/local/lib/python3.10/dist-packages/sklearn/base.py:465: UserWarning: X does not have valid feature names, but DecisionTreeRegressor was fitted with feature names\n",
            "  warnings.warn(\n"
          ]
        }
      ]
    },
    {
      "cell_type": "code",
      "source": [
        "predictValue"
      ],
      "metadata": {
        "colab": {
          "base_uri": "https://localhost:8080/"
        },
        "id": "TR77VKPrDf6N",
        "outputId": "76cdc523-51d9-407e-d8b4-6a22bd2c8264"
      },
      "execution_count": null,
      "outputs": [
        {
          "output_type": "execute_result",
          "data": {
            "text/plain": [
              "1955.0"
            ]
          },
          "metadata": {},
          "execution_count": 36
        }
      ]
    },
    {
      "cell_type": "markdown",
      "source": [
        "### 2. 인터페이스 데이터 정의"
      ],
      "metadata": {
        "id": "dt1ysctNA7kk"
      }
    },
    {
      "cell_type": "code",
      "source": [
        "class InDataset(BaseModel):\n",
        "    inHclus : int\n",
        "    inPropercent : float\n",
        "    inPromotion : str\n",
        "    inHoliday : str"
      ],
      "metadata": {
        "id": "zHkT3_hTA87Y"
      },
      "execution_count": null,
      "outputs": []
    },
    {
      "cell_type": "markdown",
      "source": [
        "### 3. 예측용 함수 정의"
      ],
      "metadata": {
        "id": "QauS7XiOBYsa"
      }
    },
    {
      "cell_type": "code",
      "source": [
        "@app.post(\"/predict\", status_code=200)\n",
        "async def predict_ml( x: InDataset):\n",
        "    inHclus = x.inHclus\n",
        "    inPropercent = x.inPropercent\n",
        "    inPromotion = x.inPromotion\n",
        "    inHoliday = x.inHoliday\n",
        "    # inHclus = 1\n",
        "    # inPropercent = 0.4\n",
        "    # inPromotion = \"Y\"\n",
        "    # inHoliday = \"N\"\n",
        "    ynDict = preprocessing[2]\n",
        "    inPromotion = ynDict[ inPromotion ]\n",
        "    inHoliday = ynDict[ inHoliday ]\n",
        "    testDf = pd.DataFrame([[ inHclus, inPropercent, inPromotion, inHoliday]])\n",
        "    predictValue = loadedModel.predict(testDf)[0]\n",
        "    return {\"prediction\": predictValue}"
      ],
      "metadata": {
        "id": "pJMsTo7RCP0T"
      },
      "execution_count": null,
      "outputs": []
    },
    {
      "cell_type": "code",
      "source": [
        "@app.get(\"/\")\n",
        "async def root():\n",
        "    return {\"message\":\"server is running\"}"
      ],
      "metadata": {
        "id": "_rqUfHZvD2Wa"
      },
      "execution_count": null,
      "outputs": []
    },
    {
      "cell_type": "code",
      "source": [
        "import nest_asyncio\n",
        "from pyngrok import ngrok\n",
        "import uvicorn\n",
        "auth_token = \"본인 API 키\"\n",
        "ngrok.set_auth_token(auth_token)\n",
        "ngrokTunnel = ngrok.connect(9999)\n",
        "print(\"공용 URL\", ngrokTunnel.public_url)\n",
        "nest_asyncio.apply()\n",
        "uvicorn.run(app, port=9999)"
      ],
      "metadata": {
        "colab": {
          "base_uri": "https://localhost:8080/"
        },
        "id": "PIonNRZSEF0q",
        "outputId": "0194c7fa-2f2d-40b1-f552-3aa307e81746"
      },
      "execution_count": null,
      "outputs": [
        {
          "output_type": "stream",
          "name": "stdout",
          "text": []
        },
        {
          "output_type": "stream",
          "name": "stderr",
          "text": [
            "INFO:     Started server process [679]\n",
            "INFO:     Waiting for application startup.\n",
            "INFO:     Application startup complete.\n",
            "INFO:     Uvicorn running on http://127.0.0.1:9999 (Press CTRL+C to quit)\n"
          ]
        },
        {
          "output_type": "stream",
          "name": "stdout",
          "text": [
            "공용 URL https://df2b-34-168-48-83.ngrok-free.app\n",
            "INFO:     59.9.202.79:0 - \"GET / HTTP/1.1\" 200 OK\n",
            "INFO:     59.9.202.79:0 - \"GET /favicon.ico HTTP/1.1\" 404 Not Found\n",
            "INFO:     59.9.202.79:0 - \"POST /predict HTTP/1.1\" 200 OK\n"
          ]
        },
        {
          "output_type": "stream",
          "name": "stderr",
          "text": [
            "/usr/local/lib/python3.10/dist-packages/sklearn/base.py:465: UserWarning: X does not have valid feature names, but DecisionTreeRegressor was fitted with feature names\n",
            "  warnings.warn(\n"
          ]
        },
        {
          "output_type": "stream",
          "name": "stdout",
          "text": [
            "INFO:     59.9.202.79:0 - \"POST /predict HTTP/1.1\" 200 OK\n"
          ]
        },
        {
          "output_type": "stream",
          "name": "stderr",
          "text": [
            "/usr/local/lib/python3.10/dist-packages/sklearn/base.py:465: UserWarning: X does not have valid feature names, but DecisionTreeRegressor was fitted with feature names\n",
            "  warnings.warn(\n",
            "WARNING:pyngrok.process.ngrok:t=2024-08-08T08:54:03+0000 lvl=warn msg=\"Stopping forwarder\" name=http-9999-739d4b62-5012-48f6-ad52-645bb49348e1 acceptErr=\"failed to accept connection: Listener closed\"\n",
            "INFO:     Shutting down\n",
            "INFO:     Waiting for application shutdown.\n",
            "INFO:     Application shutdown complete.\n",
            "INFO:     Finished server process [679]\n"
          ]
        }
      ]
    }
  ]
}