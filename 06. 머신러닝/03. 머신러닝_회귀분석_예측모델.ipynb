{
  "nbformat": 4,
  "nbformat_minor": 0,
  "metadata": {
    "colab": {
      "provenance": []
    },
    "kernelspec": {
      "name": "python3",
      "display_name": "Python 3"
    },
    "language_info": {
      "name": "python"
    }
  },
  "cells": [
    {
      "cell_type": "code",
      "execution_count": 2,
      "metadata": {
        "id": "c3dZpSv5MDXs"
      },
      "outputs": [],
      "source": [
        "import pandas as pd\n",
        "import pickle\n",
        "import numpy as np"
      ]
    },
    {
      "cell_type": "markdown",
      "source": [
        "### 1. 예측모델 결과값 불러오기"
      ],
      "metadata": {
        "id": "JMV6rAfIMfzH"
      }
    },
    {
      "cell_type": "code",
      "source": [
        "with open(\"coreDtModel.pickle\",\"rb\") as fr:\n",
        "    loadedModelData = pickle.load(fr)"
      ],
      "metadata": {
        "id": "vB2ed1ScMOr2"
      },
      "execution_count": 5,
      "outputs": []
    },
    {
      "cell_type": "code",
      "source": [
        "# 학습덩어리에서 모델 불러오기\n",
        "loadedModel = loadedModelData[\"model\"]\n",
        "print(loadedModel)\n",
        "featureOrg = loadedModelData[\"featureOrg\"]\n",
        "print(featureOrg)\n",
        "label = loadedModelData[\"label\"]\n",
        "print(label)\n",
        "preProcessing = loadedModelData[\"preprocessing\"]"
      ],
      "metadata": {
        "colab": {
          "base_uri": "https://localhost:8080/"
        },
        "id": "YPFyTvyLMmq5",
        "outputId": "b1cf1efa-5f55-43bd-96f0-0b356271ff65"
      },
      "execution_count": 17,
      "outputs": [
        {
          "output_type": "stream",
          "name": "stdout",
          "text": [
            "DecisionTreeRegressor(random_state=1)\n",
            "['HCLUS', 'PRO_PERCENT', 'PROMOTION', 'HOLIDAY']\n",
            "['QTY']\n"
          ]
        }
      ]
    },
    {
      "cell_type": "code",
      "source": [],
      "metadata": {
        "id": "awW9Pd4LODhx"
      },
      "execution_count": null,
      "outputs": []
    }
  ]
}