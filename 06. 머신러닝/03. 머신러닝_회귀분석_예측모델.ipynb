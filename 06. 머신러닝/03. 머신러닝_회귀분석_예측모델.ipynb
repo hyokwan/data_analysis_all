{
  "nbformat": 4,
  "nbformat_minor": 0,
  "metadata": {
    "colab": {
      "provenance": []
    },
    "kernelspec": {
      "name": "python3",
      "display_name": "Python 3"
    },
    "language_info": {
      "name": "python"
    }
  },
  "cells": [
    {
      "cell_type": "code",
      "source": [
        "# !pip uninstall scikit-learn\n",
        "# !pip install scikit-learn==1.3.2"
      ],
      "metadata": {
        "id": "p_tegTdJSjlA"
      },
      "execution_count": 1,
      "outputs": []
    },
    {
      "cell_type": "code",
      "execution_count": 2,
      "metadata": {
        "id": "c3dZpSv5MDXs"
      },
      "outputs": [],
      "source": [
        "import pandas as pd\n",
        "import pickle\n",
        "import numpy as np"
      ]
    },
    {
      "cell_type": "markdown",
      "source": [
        "### 1. 예측모델 결과값 불러오기"
      ],
      "metadata": {
        "id": "JMV6rAfIMfzH"
      }
    },
    {
      "cell_type": "code",
      "source": [
        "with open(\"coreDtModel.pickle\",\"rb\") as fr:\n",
        "    loadedModelData = pickle.load(fr)"
      ],
      "metadata": {
        "id": "vB2ed1ScMOr2"
      },
      "execution_count": 3,
      "outputs": []
    },
    {
      "cell_type": "code",
      "source": [
        "# 학습덩어리에서 모델 불러오기\n",
        "loadedModel = loadedModelData[\"model\"]\n",
        "print(loadedModel)\n",
        "featureOrg = loadedModelData[\"featureOrg\"]\n",
        "print(featureOrg)\n",
        "label = loadedModelData[\"label\"]\n",
        "print(label)\n",
        "preProcessing = loadedModelData[\"preprocessing\"]"
      ],
      "metadata": {
        "colab": {
          "base_uri": "https://localhost:8080/"
        },
        "id": "YPFyTvyLMmq5",
        "outputId": "2ebc472d-6b70-4073-9601-c768033b8ef2"
      },
      "execution_count": 4,
      "outputs": [
        {
          "output_type": "stream",
          "name": "stdout",
          "text": [
            "DecisionTreeRegressor(random_state=1)\n",
            "['HCLUS', 'PRO_PERCENT', 'PROMOTION', 'HOLIDAY']\n",
            "['QTY']\n"
          ]
        }
      ]
    },
    {
      "cell_type": "code",
      "source": [
        "# 화면 입력값"
      ],
      "metadata": {
        "id": "awW9Pd4LODhx"
      },
      "execution_count": 5,
      "outputs": []
    },
    {
      "cell_type": "code",
      "source": [
        "inHclus = 2\n",
        "inPropercent = 0.4\n",
        "inPromotion = \"Y\"\n",
        "inHoliday = \"N\""
      ],
      "metadata": {
        "id": "KrqjEBD6VqiH"
      },
      "execution_count": 6,
      "outputs": []
    },
    {
      "cell_type": "code",
      "source": [
        "ynMap = preProcessing[2]\n",
        "inPromotion = ynMap[ inPromotion ]\n",
        "ynMap = preProcessing[3]\n",
        "inHoliday = ynMap[ inHoliday ]"
      ],
      "metadata": {
        "id": "wf1oUwubXEva"
      },
      "execution_count": 7,
      "outputs": []
    },
    {
      "cell_type": "code",
      "source": [
        "inDf = pd.DataFrame( [[ inHclus, inPropercent, inPromotion, inHoliday]] )"
      ],
      "metadata": {
        "id": "9dL5eQOWV8dn"
      },
      "execution_count": 8,
      "outputs": []
    },
    {
      "cell_type": "code",
      "source": [
        "loadedModel.predict(inDf)"
      ],
      "metadata": {
        "colab": {
          "base_uri": "https://localhost:8080/"
        },
        "id": "RT_exuerWDm5",
        "outputId": "4b915cef-0c52-407b-f28a-010b2cf7a205"
      },
      "execution_count": 9,
      "outputs": [
        {
          "output_type": "stream",
          "name": "stderr",
          "text": [
            "/usr/local/lib/python3.10/dist-packages/sklearn/base.py:465: UserWarning: X does not have valid feature names, but DecisionTreeRegressor was fitted with feature names\n",
            "  warnings.warn(\n"
          ]
        },
        {
          "output_type": "execute_result",
          "data": {
            "text/plain": [
              "array([1955.])"
            ]
          },
          "metadata": {},
          "execution_count": 9
        }
      ]
    }
  ]
}