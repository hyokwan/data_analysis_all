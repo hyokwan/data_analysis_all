{
  "nbformat": 4,
  "nbformat_minor": 0,
  "metadata": {
    "colab": {
      "provenance": []
    },
    "kernelspec": {
      "name": "python3",
      "display_name": "Python 3"
    },
    "language_info": {
      "name": "python"
    }
  },
  "cells": [
    {
      "cell_type": "markdown",
      "source": [
        "# 라이브러리 선언"
      ],
      "metadata": {
        "id": "23bXDLqzVEGc"
      }
    },
    {
      "cell_type": "code",
      "execution_count": 1,
      "metadata": {
        "id": "oB5wR4mSUpkX"
      },
      "outputs": [],
      "source": [
        "# 스프레드시트의 행과열이 있는 데이터 조작 라이브러리\n",
        "import pandas as pd\n",
        "import numpy as np\n",
        "\n",
        "# 머신러닝 모델 라이브러리\n",
        "from sklearn import tree, ensemble, svm\n",
        "from sklearn.tree import plot_tree\n",
        "\n",
        "# 시각화 라이브러리\n",
        "import matplotlib.pyplot as plt\n",
        "\n",
        "# 머신러닝 전처리 라이브러리\n",
        "from sklearn.preprocessing import LabelEncoder\n",
        "from sklearn.model_selection import train_test_split"
      ]
    },
    {
      "cell_type": "markdown",
      "source": [
        "# 데이터 불러오기"
      ],
      "metadata": {
        "id": "RGgetZqZVOsG"
      }
    },
    {
      "cell_type": "code",
      "source": [
        "featureGitUrl = \"https://raw.githubusercontent.com/hyokwan/python-lecture/master/dataset/feature_regression_example.csv\"\n",
        "featuresData = pd.read_csv(featureGitUrl)\n",
        "featuresData.head(2)"
      ],
      "metadata": {
        "colab": {
          "base_uri": "https://localhost:8080/",
          "height": 112
        },
        "id": "z5IOFMRwWMld",
        "outputId": "7ea896fe-0633-47e0-ae03-c741e814215f"
      },
      "execution_count": 2,
      "outputs": [
        {
          "output_type": "execute_result",
          "data": {
            "text/plain": [
              "         REGIONID PRODUCTGROUP      PRODUCT      ITEM  YEARWEEK  YEAR  WEEK  \\\n",
              "0  SEOUL_BANK_001         PG02  PRODUCT0010  ITEM0115    201501  2015     1   \n",
              "1  SEOUL_BANK_001         PG02  PRODUCT0010  ITEM0115    201502  2015     2   \n",
              "\n",
              "    QTY HOLIDAY  HCLUS PROMOTION  PRO_PERCENT  \n",
              "0  1225       Y      1         Y     0.209442  \n",
              "1   968       N      4         Y     0.209442  "
            ],
            "text/html": [
              "\n",
              "  <div id=\"df-1710f9c0-1c5b-4212-a0ed-20dedd945878\" class=\"colab-df-container\">\n",
              "    <div>\n",
              "<style scoped>\n",
              "    .dataframe tbody tr th:only-of-type {\n",
              "        vertical-align: middle;\n",
              "    }\n",
              "\n",
              "    .dataframe tbody tr th {\n",
              "        vertical-align: top;\n",
              "    }\n",
              "\n",
              "    .dataframe thead th {\n",
              "        text-align: right;\n",
              "    }\n",
              "</style>\n",
              "<table border=\"1\" class=\"dataframe\">\n",
              "  <thead>\n",
              "    <tr style=\"text-align: right;\">\n",
              "      <th></th>\n",
              "      <th>REGIONID</th>\n",
              "      <th>PRODUCTGROUP</th>\n",
              "      <th>PRODUCT</th>\n",
              "      <th>ITEM</th>\n",
              "      <th>YEARWEEK</th>\n",
              "      <th>YEAR</th>\n",
              "      <th>WEEK</th>\n",
              "      <th>QTY</th>\n",
              "      <th>HOLIDAY</th>\n",
              "      <th>HCLUS</th>\n",
              "      <th>PROMOTION</th>\n",
              "      <th>PRO_PERCENT</th>\n",
              "    </tr>\n",
              "  </thead>\n",
              "  <tbody>\n",
              "    <tr>\n",
              "      <th>0</th>\n",
              "      <td>SEOUL_BANK_001</td>\n",
              "      <td>PG02</td>\n",
              "      <td>PRODUCT0010</td>\n",
              "      <td>ITEM0115</td>\n",
              "      <td>201501</td>\n",
              "      <td>2015</td>\n",
              "      <td>1</td>\n",
              "      <td>1225</td>\n",
              "      <td>Y</td>\n",
              "      <td>1</td>\n",
              "      <td>Y</td>\n",
              "      <td>0.209442</td>\n",
              "    </tr>\n",
              "    <tr>\n",
              "      <th>1</th>\n",
              "      <td>SEOUL_BANK_001</td>\n",
              "      <td>PG02</td>\n",
              "      <td>PRODUCT0010</td>\n",
              "      <td>ITEM0115</td>\n",
              "      <td>201502</td>\n",
              "      <td>2015</td>\n",
              "      <td>2</td>\n",
              "      <td>968</td>\n",
              "      <td>N</td>\n",
              "      <td>4</td>\n",
              "      <td>Y</td>\n",
              "      <td>0.209442</td>\n",
              "    </tr>\n",
              "  </tbody>\n",
              "</table>\n",
              "</div>\n",
              "    <div class=\"colab-df-buttons\">\n",
              "\n",
              "  <div class=\"colab-df-container\">\n",
              "    <button class=\"colab-df-convert\" onclick=\"convertToInteractive('df-1710f9c0-1c5b-4212-a0ed-20dedd945878')\"\n",
              "            title=\"Convert this dataframe to an interactive table.\"\n",
              "            style=\"display:none;\">\n",
              "\n",
              "  <svg xmlns=\"http://www.w3.org/2000/svg\" height=\"24px\" viewBox=\"0 -960 960 960\">\n",
              "    <path d=\"M120-120v-720h720v720H120Zm60-500h600v-160H180v160Zm220 220h160v-160H400v160Zm0 220h160v-160H400v160ZM180-400h160v-160H180v160Zm440 0h160v-160H620v160ZM180-180h160v-160H180v160Zm440 0h160v-160H620v160Z\"/>\n",
              "  </svg>\n",
              "    </button>\n",
              "\n",
              "  <style>\n",
              "    .colab-df-container {\n",
              "      display:flex;\n",
              "      gap: 12px;\n",
              "    }\n",
              "\n",
              "    .colab-df-convert {\n",
              "      background-color: #E8F0FE;\n",
              "      border: none;\n",
              "      border-radius: 50%;\n",
              "      cursor: pointer;\n",
              "      display: none;\n",
              "      fill: #1967D2;\n",
              "      height: 32px;\n",
              "      padding: 0 0 0 0;\n",
              "      width: 32px;\n",
              "    }\n",
              "\n",
              "    .colab-df-convert:hover {\n",
              "      background-color: #E2EBFA;\n",
              "      box-shadow: 0px 1px 2px rgba(60, 64, 67, 0.3), 0px 1px 3px 1px rgba(60, 64, 67, 0.15);\n",
              "      fill: #174EA6;\n",
              "    }\n",
              "\n",
              "    .colab-df-buttons div {\n",
              "      margin-bottom: 4px;\n",
              "    }\n",
              "\n",
              "    [theme=dark] .colab-df-convert {\n",
              "      background-color: #3B4455;\n",
              "      fill: #D2E3FC;\n",
              "    }\n",
              "\n",
              "    [theme=dark] .colab-df-convert:hover {\n",
              "      background-color: #434B5C;\n",
              "      box-shadow: 0px 1px 3px 1px rgba(0, 0, 0, 0.15);\n",
              "      filter: drop-shadow(0px 1px 2px rgba(0, 0, 0, 0.3));\n",
              "      fill: #FFFFFF;\n",
              "    }\n",
              "  </style>\n",
              "\n",
              "    <script>\n",
              "      const buttonEl =\n",
              "        document.querySelector('#df-1710f9c0-1c5b-4212-a0ed-20dedd945878 button.colab-df-convert');\n",
              "      buttonEl.style.display =\n",
              "        google.colab.kernel.accessAllowed ? 'block' : 'none';\n",
              "\n",
              "      async function convertToInteractive(key) {\n",
              "        const element = document.querySelector('#df-1710f9c0-1c5b-4212-a0ed-20dedd945878');\n",
              "        const dataTable =\n",
              "          await google.colab.kernel.invokeFunction('convertToInteractive',\n",
              "                                                    [key], {});\n",
              "        if (!dataTable) return;\n",
              "\n",
              "        const docLinkHtml = 'Like what you see? Visit the ' +\n",
              "          '<a target=\"_blank\" href=https://colab.research.google.com/notebooks/data_table.ipynb>data table notebook</a>'\n",
              "          + ' to learn more about interactive tables.';\n",
              "        element.innerHTML = '';\n",
              "        dataTable['output_type'] = 'display_data';\n",
              "        await google.colab.output.renderOutput(dataTable, element);\n",
              "        const docLink = document.createElement('div');\n",
              "        docLink.innerHTML = docLinkHtml;\n",
              "        element.appendChild(docLink);\n",
              "      }\n",
              "    </script>\n",
              "  </div>\n",
              "\n",
              "\n",
              "<div id=\"df-8acc3a86-5c01-4263-ba76-02755a65448c\">\n",
              "  <button class=\"colab-df-quickchart\" onclick=\"quickchart('df-8acc3a86-5c01-4263-ba76-02755a65448c')\"\n",
              "            title=\"Suggest charts\"\n",
              "            style=\"display:none;\">\n",
              "\n",
              "<svg xmlns=\"http://www.w3.org/2000/svg\" height=\"24px\"viewBox=\"0 0 24 24\"\n",
              "     width=\"24px\">\n",
              "    <g>\n",
              "        <path d=\"M19 3H5c-1.1 0-2 .9-2 2v14c0 1.1.9 2 2 2h14c1.1 0 2-.9 2-2V5c0-1.1-.9-2-2-2zM9 17H7v-7h2v7zm4 0h-2V7h2v10zm4 0h-2v-4h2v4z\"/>\n",
              "    </g>\n",
              "</svg>\n",
              "  </button>\n",
              "\n",
              "<style>\n",
              "  .colab-df-quickchart {\n",
              "      --bg-color: #E8F0FE;\n",
              "      --fill-color: #1967D2;\n",
              "      --hover-bg-color: #E2EBFA;\n",
              "      --hover-fill-color: #174EA6;\n",
              "      --disabled-fill-color: #AAA;\n",
              "      --disabled-bg-color: #DDD;\n",
              "  }\n",
              "\n",
              "  [theme=dark] .colab-df-quickchart {\n",
              "      --bg-color: #3B4455;\n",
              "      --fill-color: #D2E3FC;\n",
              "      --hover-bg-color: #434B5C;\n",
              "      --hover-fill-color: #FFFFFF;\n",
              "      --disabled-bg-color: #3B4455;\n",
              "      --disabled-fill-color: #666;\n",
              "  }\n",
              "\n",
              "  .colab-df-quickchart {\n",
              "    background-color: var(--bg-color);\n",
              "    border: none;\n",
              "    border-radius: 50%;\n",
              "    cursor: pointer;\n",
              "    display: none;\n",
              "    fill: var(--fill-color);\n",
              "    height: 32px;\n",
              "    padding: 0;\n",
              "    width: 32px;\n",
              "  }\n",
              "\n",
              "  .colab-df-quickchart:hover {\n",
              "    background-color: var(--hover-bg-color);\n",
              "    box-shadow: 0 1px 2px rgba(60, 64, 67, 0.3), 0 1px 3px 1px rgba(60, 64, 67, 0.15);\n",
              "    fill: var(--button-hover-fill-color);\n",
              "  }\n",
              "\n",
              "  .colab-df-quickchart-complete:disabled,\n",
              "  .colab-df-quickchart-complete:disabled:hover {\n",
              "    background-color: var(--disabled-bg-color);\n",
              "    fill: var(--disabled-fill-color);\n",
              "    box-shadow: none;\n",
              "  }\n",
              "\n",
              "  .colab-df-spinner {\n",
              "    border: 2px solid var(--fill-color);\n",
              "    border-color: transparent;\n",
              "    border-bottom-color: var(--fill-color);\n",
              "    animation:\n",
              "      spin 1s steps(1) infinite;\n",
              "  }\n",
              "\n",
              "  @keyframes spin {\n",
              "    0% {\n",
              "      border-color: transparent;\n",
              "      border-bottom-color: var(--fill-color);\n",
              "      border-left-color: var(--fill-color);\n",
              "    }\n",
              "    20% {\n",
              "      border-color: transparent;\n",
              "      border-left-color: var(--fill-color);\n",
              "      border-top-color: var(--fill-color);\n",
              "    }\n",
              "    30% {\n",
              "      border-color: transparent;\n",
              "      border-left-color: var(--fill-color);\n",
              "      border-top-color: var(--fill-color);\n",
              "      border-right-color: var(--fill-color);\n",
              "    }\n",
              "    40% {\n",
              "      border-color: transparent;\n",
              "      border-right-color: var(--fill-color);\n",
              "      border-top-color: var(--fill-color);\n",
              "    }\n",
              "    60% {\n",
              "      border-color: transparent;\n",
              "      border-right-color: var(--fill-color);\n",
              "    }\n",
              "    80% {\n",
              "      border-color: transparent;\n",
              "      border-right-color: var(--fill-color);\n",
              "      border-bottom-color: var(--fill-color);\n",
              "    }\n",
              "    90% {\n",
              "      border-color: transparent;\n",
              "      border-bottom-color: var(--fill-color);\n",
              "    }\n",
              "  }\n",
              "</style>\n",
              "\n",
              "  <script>\n",
              "    async function quickchart(key) {\n",
              "      const quickchartButtonEl =\n",
              "        document.querySelector('#' + key + ' button');\n",
              "      quickchartButtonEl.disabled = true;  // To prevent multiple clicks.\n",
              "      quickchartButtonEl.classList.add('colab-df-spinner');\n",
              "      try {\n",
              "        const charts = await google.colab.kernel.invokeFunction(\n",
              "            'suggestCharts', [key], {});\n",
              "      } catch (error) {\n",
              "        console.error('Error during call to suggestCharts:', error);\n",
              "      }\n",
              "      quickchartButtonEl.classList.remove('colab-df-spinner');\n",
              "      quickchartButtonEl.classList.add('colab-df-quickchart-complete');\n",
              "    }\n",
              "    (() => {\n",
              "      let quickchartButtonEl =\n",
              "        document.querySelector('#df-8acc3a86-5c01-4263-ba76-02755a65448c button');\n",
              "      quickchartButtonEl.style.display =\n",
              "        google.colab.kernel.accessAllowed ? 'block' : 'none';\n",
              "    })();\n",
              "  </script>\n",
              "</div>\n",
              "\n",
              "    </div>\n",
              "  </div>\n"
            ],
            "application/vnd.google.colaboratory.intrinsic+json": {
              "type": "dataframe",
              "variable_name": "featuresData",
              "summary": "{\n  \"name\": \"featuresData\",\n  \"rows\": 105,\n  \"fields\": [\n    {\n      \"column\": \"REGIONID\",\n      \"properties\": {\n        \"dtype\": \"category\",\n        \"num_unique_values\": 1,\n        \"samples\": [\n          \"SEOUL_BANK_001\"\n        ],\n        \"semantic_type\": \"\",\n        \"description\": \"\"\n      }\n    },\n    {\n      \"column\": \"PRODUCTGROUP\",\n      \"properties\": {\n        \"dtype\": \"category\",\n        \"num_unique_values\": 1,\n        \"samples\": [\n          \"PG02\"\n        ],\n        \"semantic_type\": \"\",\n        \"description\": \"\"\n      }\n    },\n    {\n      \"column\": \"PRODUCT\",\n      \"properties\": {\n        \"dtype\": \"category\",\n        \"num_unique_values\": 1,\n        \"samples\": [\n          \"PRODUCT0010\"\n        ],\n        \"semantic_type\": \"\",\n        \"description\": \"\"\n      }\n    },\n    {\n      \"column\": \"ITEM\",\n      \"properties\": {\n        \"dtype\": \"category\",\n        \"num_unique_values\": 1,\n        \"samples\": [\n          \"ITEM0115\"\n        ],\n        \"semantic_type\": \"\",\n        \"description\": \"\"\n      }\n    },\n    {\n      \"column\": \"YEARWEEK\",\n      \"properties\": {\n        \"dtype\": \"number\",\n        \"std\": 52,\n        \"min\": 201501,\n        \"max\": 201652,\n        \"num_unique_values\": 105,\n        \"samples\": [\n          201531\n        ],\n        \"semantic_type\": \"\",\n        \"description\": \"\"\n      }\n    },\n    {\n      \"column\": \"YEAR\",\n      \"properties\": {\n        \"dtype\": \"number\",\n        \"std\": 0,\n        \"min\": 2015,\n        \"max\": 2016,\n        \"num_unique_values\": 2,\n        \"samples\": [\n          2016\n        ],\n        \"semantic_type\": \"\",\n        \"description\": \"\"\n      }\n    },\n    {\n      \"column\": \"WEEK\",\n      \"properties\": {\n        \"dtype\": \"number\",\n        \"std\": 15,\n        \"min\": 1,\n        \"max\": 53,\n        \"num_unique_values\": 53,\n        \"samples\": [\n          20\n        ],\n        \"semantic_type\": \"\",\n        \"description\": \"\"\n      }\n    },\n    {\n      \"column\": \"QTY\",\n      \"properties\": {\n        \"dtype\": \"number\",\n        \"std\": 820,\n        \"min\": 15,\n        \"max\": 4035,\n        \"num_unique_values\": 100,\n        \"samples\": [\n          1514\n        ],\n        \"semantic_type\": \"\",\n        \"description\": \"\"\n      }\n    },\n    {\n      \"column\": \"HOLIDAY\",\n      \"properties\": {\n        \"dtype\": \"category\",\n        \"num_unique_values\": 2,\n        \"samples\": [\n          \"N\"\n        ],\n        \"semantic_type\": \"\",\n        \"description\": \"\"\n      }\n    },\n    {\n      \"column\": \"HCLUS\",\n      \"properties\": {\n        \"dtype\": \"number\",\n        \"std\": 1,\n        \"min\": 0,\n        \"max\": 4,\n        \"num_unique_values\": 4,\n        \"samples\": [\n          4\n        ],\n        \"semantic_type\": \"\",\n        \"description\": \"\"\n      }\n    },\n    {\n      \"column\": \"PROMOTION\",\n      \"properties\": {\n        \"dtype\": \"category\",\n        \"num_unique_values\": 2,\n        \"samples\": [\n          \"N\"\n        ],\n        \"semantic_type\": \"\",\n        \"description\": \"\"\n      }\n    },\n    {\n      \"column\": \"PRO_PERCENT\",\n      \"properties\": {\n        \"dtype\": \"number\",\n        \"std\": 0.12863568869931824,\n        \"min\": 0.0,\n        \"max\": 0.421888412,\n        \"num_unique_values\": 9,\n        \"samples\": [\n          0.421888412\n        ],\n        \"semantic_type\": \"\",\n        \"description\": \"\"\n      }\n    }\n  ]\n}"
            }
          },
          "metadata": {},
          "execution_count": 2
        }
      ]
    },
    {
      "cell_type": "markdown",
      "source": [
        "# 1. 타입 통합/ 특성숫자컬럼 추가"
      ],
      "metadata": {
        "id": "2_4lsXekXGYG"
      }
    },
    {
      "cell_type": "code",
      "source": [
        "featuresData.PROMOTION.drop_duplicates()"
      ],
      "metadata": {
        "colab": {
          "base_uri": "https://localhost:8080/"
        },
        "id": "HM5Ba55DjIcw",
        "outputId": "c106fff3-2db0-4ef7-82ca-596b43f60aa1"
      },
      "execution_count": 3,
      "outputs": [
        {
          "output_type": "execute_result",
          "data": {
            "text/plain": [
              "0    Y\n",
              "9    N\n",
              "Name: PROMOTION, dtype: object"
            ]
          },
          "metadata": {},
          "execution_count": 3
        }
      ]
    },
    {
      "cell_type": "code",
      "source": [
        "### 바꿔야 하는 대상이 1,2 -> np.where !!! 전처리 함수를 만든다\n",
        "def ynVectorFuc(inValue):\n",
        "    # inValue = \"Y\"\n",
        "    if inValue == \"Y\":\n",
        "        return 1\n",
        "    else:\n",
        "        return 0\n",
        "### 바꿔야 하는 대상이 3-5 -> dictionary 만들고 map함수로!! 호출!!\n",
        "ynMap = {\"Y\":1,\"N\":0}\n",
        "featuresData.PROMOTION.map( ynMap )\n",
        "### 바꿔야 하는 대상이 5개 초과 인경우\n",
        "### LabelEncoder는  해당 컬럼의 카테코리데이터를 오름차순으로 정렬후\n",
        "### 인덱스번호로 숫자변환\n",
        "ynLabel = LabelEncoder()\n",
        "featuresData[\"LE_PROMOTION\"] = ynLabel.fit_transform(featuresData.PROMOTION)"
      ],
      "metadata": {
        "id": "DkuRR0q7in6S"
      },
      "execution_count": 4,
      "outputs": []
    },
    {
      "cell_type": "code",
      "source": [
        "featuresData.describe()"
      ],
      "metadata": {
        "colab": {
          "base_uri": "https://localhost:8080/",
          "height": 300
        },
        "id": "KTVJxulWuYOg",
        "outputId": "5854dfab-6e3d-41fe-f324-0a2cb408dd26"
      },
      "execution_count": 5,
      "outputs": [
        {
          "output_type": "execute_result",
          "data": {
            "text/plain": [
              "            YEARWEEK         YEAR        WEEK          QTY       HCLUS  \\\n",
              "count     105.000000   105.000000  105.000000   105.000000  105.000000   \n",
              "mean   201576.276190  2015.495238   26.752381  1210.238095    2.742857   \n",
              "std        52.254278     0.502375   15.229514   820.097819    1.587382   \n",
              "min    201501.000000  2015.000000    1.000000    15.000000    0.000000   \n",
              "25%    201527.000000  2015.000000   14.000000   542.000000    1.000000   \n",
              "50%    201553.000000  2015.000000   27.000000  1139.000000    4.000000   \n",
              "75%    201626.000000  2016.000000   40.000000  1753.000000    4.000000   \n",
              "max    201652.000000  2016.000000   53.000000  4035.000000    4.000000   \n",
              "\n",
              "       PRO_PERCENT  LE_PROMOTION  \n",
              "count   105.000000    105.000000  \n",
              "mean      0.205780      0.761905  \n",
              "std       0.128636      0.427960  \n",
              "min       0.000000      0.000000  \n",
              "25%       0.208155      1.000000  \n",
              "50%       0.209442      1.000000  \n",
              "75%       0.280258      1.000000  \n",
              "max       0.421888      1.000000  "
            ],
            "text/html": [
              "\n",
              "  <div id=\"df-7404f230-5781-4751-bad9-a85cf645f9d0\" class=\"colab-df-container\">\n",
              "    <div>\n",
              "<style scoped>\n",
              "    .dataframe tbody tr th:only-of-type {\n",
              "        vertical-align: middle;\n",
              "    }\n",
              "\n",
              "    .dataframe tbody tr th {\n",
              "        vertical-align: top;\n",
              "    }\n",
              "\n",
              "    .dataframe thead th {\n",
              "        text-align: right;\n",
              "    }\n",
              "</style>\n",
              "<table border=\"1\" class=\"dataframe\">\n",
              "  <thead>\n",
              "    <tr style=\"text-align: right;\">\n",
              "      <th></th>\n",
              "      <th>YEARWEEK</th>\n",
              "      <th>YEAR</th>\n",
              "      <th>WEEK</th>\n",
              "      <th>QTY</th>\n",
              "      <th>HCLUS</th>\n",
              "      <th>PRO_PERCENT</th>\n",
              "      <th>LE_PROMOTION</th>\n",
              "    </tr>\n",
              "  </thead>\n",
              "  <tbody>\n",
              "    <tr>\n",
              "      <th>count</th>\n",
              "      <td>105.000000</td>\n",
              "      <td>105.000000</td>\n",
              "      <td>105.000000</td>\n",
              "      <td>105.000000</td>\n",
              "      <td>105.000000</td>\n",
              "      <td>105.000000</td>\n",
              "      <td>105.000000</td>\n",
              "    </tr>\n",
              "    <tr>\n",
              "      <th>mean</th>\n",
              "      <td>201576.276190</td>\n",
              "      <td>2015.495238</td>\n",
              "      <td>26.752381</td>\n",
              "      <td>1210.238095</td>\n",
              "      <td>2.742857</td>\n",
              "      <td>0.205780</td>\n",
              "      <td>0.761905</td>\n",
              "    </tr>\n",
              "    <tr>\n",
              "      <th>std</th>\n",
              "      <td>52.254278</td>\n",
              "      <td>0.502375</td>\n",
              "      <td>15.229514</td>\n",
              "      <td>820.097819</td>\n",
              "      <td>1.587382</td>\n",
              "      <td>0.128636</td>\n",
              "      <td>0.427960</td>\n",
              "    </tr>\n",
              "    <tr>\n",
              "      <th>min</th>\n",
              "      <td>201501.000000</td>\n",
              "      <td>2015.000000</td>\n",
              "      <td>1.000000</td>\n",
              "      <td>15.000000</td>\n",
              "      <td>0.000000</td>\n",
              "      <td>0.000000</td>\n",
              "      <td>0.000000</td>\n",
              "    </tr>\n",
              "    <tr>\n",
              "      <th>25%</th>\n",
              "      <td>201527.000000</td>\n",
              "      <td>2015.000000</td>\n",
              "      <td>14.000000</td>\n",
              "      <td>542.000000</td>\n",
              "      <td>1.000000</td>\n",
              "      <td>0.208155</td>\n",
              "      <td>1.000000</td>\n",
              "    </tr>\n",
              "    <tr>\n",
              "      <th>50%</th>\n",
              "      <td>201553.000000</td>\n",
              "      <td>2015.000000</td>\n",
              "      <td>27.000000</td>\n",
              "      <td>1139.000000</td>\n",
              "      <td>4.000000</td>\n",
              "      <td>0.209442</td>\n",
              "      <td>1.000000</td>\n",
              "    </tr>\n",
              "    <tr>\n",
              "      <th>75%</th>\n",
              "      <td>201626.000000</td>\n",
              "      <td>2016.000000</td>\n",
              "      <td>40.000000</td>\n",
              "      <td>1753.000000</td>\n",
              "      <td>4.000000</td>\n",
              "      <td>0.280258</td>\n",
              "      <td>1.000000</td>\n",
              "    </tr>\n",
              "    <tr>\n",
              "      <th>max</th>\n",
              "      <td>201652.000000</td>\n",
              "      <td>2016.000000</td>\n",
              "      <td>53.000000</td>\n",
              "      <td>4035.000000</td>\n",
              "      <td>4.000000</td>\n",
              "      <td>0.421888</td>\n",
              "      <td>1.000000</td>\n",
              "    </tr>\n",
              "  </tbody>\n",
              "</table>\n",
              "</div>\n",
              "    <div class=\"colab-df-buttons\">\n",
              "\n",
              "  <div class=\"colab-df-container\">\n",
              "    <button class=\"colab-df-convert\" onclick=\"convertToInteractive('df-7404f230-5781-4751-bad9-a85cf645f9d0')\"\n",
              "            title=\"Convert this dataframe to an interactive table.\"\n",
              "            style=\"display:none;\">\n",
              "\n",
              "  <svg xmlns=\"http://www.w3.org/2000/svg\" height=\"24px\" viewBox=\"0 -960 960 960\">\n",
              "    <path d=\"M120-120v-720h720v720H120Zm60-500h600v-160H180v160Zm220 220h160v-160H400v160Zm0 220h160v-160H400v160ZM180-400h160v-160H180v160Zm440 0h160v-160H620v160ZM180-180h160v-160H180v160Zm440 0h160v-160H620v160Z\"/>\n",
              "  </svg>\n",
              "    </button>\n",
              "\n",
              "  <style>\n",
              "    .colab-df-container {\n",
              "      display:flex;\n",
              "      gap: 12px;\n",
              "    }\n",
              "\n",
              "    .colab-df-convert {\n",
              "      background-color: #E8F0FE;\n",
              "      border: none;\n",
              "      border-radius: 50%;\n",
              "      cursor: pointer;\n",
              "      display: none;\n",
              "      fill: #1967D2;\n",
              "      height: 32px;\n",
              "      padding: 0 0 0 0;\n",
              "      width: 32px;\n",
              "    }\n",
              "\n",
              "    .colab-df-convert:hover {\n",
              "      background-color: #E2EBFA;\n",
              "      box-shadow: 0px 1px 2px rgba(60, 64, 67, 0.3), 0px 1px 3px 1px rgba(60, 64, 67, 0.15);\n",
              "      fill: #174EA6;\n",
              "    }\n",
              "\n",
              "    .colab-df-buttons div {\n",
              "      margin-bottom: 4px;\n",
              "    }\n",
              "\n",
              "    [theme=dark] .colab-df-convert {\n",
              "      background-color: #3B4455;\n",
              "      fill: #D2E3FC;\n",
              "    }\n",
              "\n",
              "    [theme=dark] .colab-df-convert:hover {\n",
              "      background-color: #434B5C;\n",
              "      box-shadow: 0px 1px 3px 1px rgba(0, 0, 0, 0.15);\n",
              "      filter: drop-shadow(0px 1px 2px rgba(0, 0, 0, 0.3));\n",
              "      fill: #FFFFFF;\n",
              "    }\n",
              "  </style>\n",
              "\n",
              "    <script>\n",
              "      const buttonEl =\n",
              "        document.querySelector('#df-7404f230-5781-4751-bad9-a85cf645f9d0 button.colab-df-convert');\n",
              "      buttonEl.style.display =\n",
              "        google.colab.kernel.accessAllowed ? 'block' : 'none';\n",
              "\n",
              "      async function convertToInteractive(key) {\n",
              "        const element = document.querySelector('#df-7404f230-5781-4751-bad9-a85cf645f9d0');\n",
              "        const dataTable =\n",
              "          await google.colab.kernel.invokeFunction('convertToInteractive',\n",
              "                                                    [key], {});\n",
              "        if (!dataTable) return;\n",
              "\n",
              "        const docLinkHtml = 'Like what you see? Visit the ' +\n",
              "          '<a target=\"_blank\" href=https://colab.research.google.com/notebooks/data_table.ipynb>data table notebook</a>'\n",
              "          + ' to learn more about interactive tables.';\n",
              "        element.innerHTML = '';\n",
              "        dataTable['output_type'] = 'display_data';\n",
              "        await google.colab.output.renderOutput(dataTable, element);\n",
              "        const docLink = document.createElement('div');\n",
              "        docLink.innerHTML = docLinkHtml;\n",
              "        element.appendChild(docLink);\n",
              "      }\n",
              "    </script>\n",
              "  </div>\n",
              "\n",
              "\n",
              "<div id=\"df-e28ae144-c3b8-4636-b76b-a38b3f8b8b05\">\n",
              "  <button class=\"colab-df-quickchart\" onclick=\"quickchart('df-e28ae144-c3b8-4636-b76b-a38b3f8b8b05')\"\n",
              "            title=\"Suggest charts\"\n",
              "            style=\"display:none;\">\n",
              "\n",
              "<svg xmlns=\"http://www.w3.org/2000/svg\" height=\"24px\"viewBox=\"0 0 24 24\"\n",
              "     width=\"24px\">\n",
              "    <g>\n",
              "        <path d=\"M19 3H5c-1.1 0-2 .9-2 2v14c0 1.1.9 2 2 2h14c1.1 0 2-.9 2-2V5c0-1.1-.9-2-2-2zM9 17H7v-7h2v7zm4 0h-2V7h2v10zm4 0h-2v-4h2v4z\"/>\n",
              "    </g>\n",
              "</svg>\n",
              "  </button>\n",
              "\n",
              "<style>\n",
              "  .colab-df-quickchart {\n",
              "      --bg-color: #E8F0FE;\n",
              "      --fill-color: #1967D2;\n",
              "      --hover-bg-color: #E2EBFA;\n",
              "      --hover-fill-color: #174EA6;\n",
              "      --disabled-fill-color: #AAA;\n",
              "      --disabled-bg-color: #DDD;\n",
              "  }\n",
              "\n",
              "  [theme=dark] .colab-df-quickchart {\n",
              "      --bg-color: #3B4455;\n",
              "      --fill-color: #D2E3FC;\n",
              "      --hover-bg-color: #434B5C;\n",
              "      --hover-fill-color: #FFFFFF;\n",
              "      --disabled-bg-color: #3B4455;\n",
              "      --disabled-fill-color: #666;\n",
              "  }\n",
              "\n",
              "  .colab-df-quickchart {\n",
              "    background-color: var(--bg-color);\n",
              "    border: none;\n",
              "    border-radius: 50%;\n",
              "    cursor: pointer;\n",
              "    display: none;\n",
              "    fill: var(--fill-color);\n",
              "    height: 32px;\n",
              "    padding: 0;\n",
              "    width: 32px;\n",
              "  }\n",
              "\n",
              "  .colab-df-quickchart:hover {\n",
              "    background-color: var(--hover-bg-color);\n",
              "    box-shadow: 0 1px 2px rgba(60, 64, 67, 0.3), 0 1px 3px 1px rgba(60, 64, 67, 0.15);\n",
              "    fill: var(--button-hover-fill-color);\n",
              "  }\n",
              "\n",
              "  .colab-df-quickchart-complete:disabled,\n",
              "  .colab-df-quickchart-complete:disabled:hover {\n",
              "    background-color: var(--disabled-bg-color);\n",
              "    fill: var(--disabled-fill-color);\n",
              "    box-shadow: none;\n",
              "  }\n",
              "\n",
              "  .colab-df-spinner {\n",
              "    border: 2px solid var(--fill-color);\n",
              "    border-color: transparent;\n",
              "    border-bottom-color: var(--fill-color);\n",
              "    animation:\n",
              "      spin 1s steps(1) infinite;\n",
              "  }\n",
              "\n",
              "  @keyframes spin {\n",
              "    0% {\n",
              "      border-color: transparent;\n",
              "      border-bottom-color: var(--fill-color);\n",
              "      border-left-color: var(--fill-color);\n",
              "    }\n",
              "    20% {\n",
              "      border-color: transparent;\n",
              "      border-left-color: var(--fill-color);\n",
              "      border-top-color: var(--fill-color);\n",
              "    }\n",
              "    30% {\n",
              "      border-color: transparent;\n",
              "      border-left-color: var(--fill-color);\n",
              "      border-top-color: var(--fill-color);\n",
              "      border-right-color: var(--fill-color);\n",
              "    }\n",
              "    40% {\n",
              "      border-color: transparent;\n",
              "      border-right-color: var(--fill-color);\n",
              "      border-top-color: var(--fill-color);\n",
              "    }\n",
              "    60% {\n",
              "      border-color: transparent;\n",
              "      border-right-color: var(--fill-color);\n",
              "    }\n",
              "    80% {\n",
              "      border-color: transparent;\n",
              "      border-right-color: var(--fill-color);\n",
              "      border-bottom-color: var(--fill-color);\n",
              "    }\n",
              "    90% {\n",
              "      border-color: transparent;\n",
              "      border-bottom-color: var(--fill-color);\n",
              "    }\n",
              "  }\n",
              "</style>\n",
              "\n",
              "  <script>\n",
              "    async function quickchart(key) {\n",
              "      const quickchartButtonEl =\n",
              "        document.querySelector('#' + key + ' button');\n",
              "      quickchartButtonEl.disabled = true;  // To prevent multiple clicks.\n",
              "      quickchartButtonEl.classList.add('colab-df-spinner');\n",
              "      try {\n",
              "        const charts = await google.colab.kernel.invokeFunction(\n",
              "            'suggestCharts', [key], {});\n",
              "      } catch (error) {\n",
              "        console.error('Error during call to suggestCharts:', error);\n",
              "      }\n",
              "      quickchartButtonEl.classList.remove('colab-df-spinner');\n",
              "      quickchartButtonEl.classList.add('colab-df-quickchart-complete');\n",
              "    }\n",
              "    (() => {\n",
              "      let quickchartButtonEl =\n",
              "        document.querySelector('#df-e28ae144-c3b8-4636-b76b-a38b3f8b8b05 button');\n",
              "      quickchartButtonEl.style.display =\n",
              "        google.colab.kernel.accessAllowed ? 'block' : 'none';\n",
              "    })();\n",
              "  </script>\n",
              "</div>\n",
              "\n",
              "    </div>\n",
              "  </div>\n"
            ],
            "application/vnd.google.colaboratory.intrinsic+json": {
              "type": "dataframe",
              "summary": "{\n  \"name\": \"featuresData\",\n  \"rows\": 8,\n  \"fields\": [\n    {\n      \"column\": \"YEARWEEK\",\n      \"properties\": {\n        \"dtype\": \"number\",\n        \"std\": 93273.57394615267,\n        \"min\": 52.254277564707785,\n        \"max\": 201652.0,\n        \"num_unique_values\": 8,\n        \"samples\": [\n          201576.2761904762,\n          201553.0,\n          105.0\n        ],\n        \"semantic_type\": \"\",\n        \"description\": \"\"\n      }\n    },\n    {\n      \"column\": \"YEAR\",\n      \"properties\": {\n        \"dtype\": \"number\",\n        \"std\": 908.9664527115152,\n        \"min\": 0.5023753102820167,\n        \"max\": 2016.0,\n        \"num_unique_values\": 5,\n        \"samples\": [\n          2015.4952380952382,\n          2016.0,\n          0.5023753102820167\n        ],\n        \"semantic_type\": \"\",\n        \"description\": \"\"\n      }\n    },\n    {\n      \"column\": \"WEEK\",\n      \"properties\": {\n        \"dtype\": \"number\",\n        \"std\": 32.44424745416766,\n        \"min\": 1.0,\n        \"max\": 105.0,\n        \"num_unique_values\": 8,\n        \"samples\": [\n          26.752380952380953,\n          27.0,\n          105.0\n        ],\n        \"semantic_type\": \"\",\n        \"description\": \"\"\n      }\n    },\n    {\n      \"column\": \"QTY\",\n      \"properties\": {\n        \"dtype\": \"number\",\n        \"std\": 1283.2632928163305,\n        \"min\": 15.0,\n        \"max\": 4035.0,\n        \"num_unique_values\": 8,\n        \"samples\": [\n          1210.2380952380952,\n          1139.0,\n          105.0\n        ],\n        \"semantic_type\": \"\",\n        \"description\": \"\"\n      }\n    },\n    {\n      \"column\": \"HCLUS\",\n      \"properties\": {\n        \"dtype\": \"number\",\n        \"std\": 36.27958326438506,\n        \"min\": 0.0,\n        \"max\": 105.0,\n        \"num_unique_values\": 6,\n        \"samples\": [\n          105.0,\n          2.742857142857143,\n          4.0\n        ],\n        \"semantic_type\": \"\",\n        \"description\": \"\"\n      }\n    },\n    {\n      \"column\": \"PRO_PERCENT\",\n      \"properties\": {\n        \"dtype\": \"number\",\n        \"std\": 37.0498537784099,\n        \"min\": 0.0,\n        \"max\": 105.0,\n        \"num_unique_values\": 8,\n        \"samples\": [\n          0.20577968521904758,\n          0.20944206,\n          105.0\n        ],\n        \"semantic_type\": \"\",\n        \"description\": \"\"\n      }\n    },\n    {\n      \"column\": \"LE_PROMOTION\",\n      \"properties\": {\n        \"dtype\": \"number\",\n        \"std\": 36.86275287846426,\n        \"min\": 0.0,\n        \"max\": 105.0,\n        \"num_unique_values\": 5,\n        \"samples\": [\n          0.7619047619047619,\n          1.0,\n          0.4279604925109129\n        ],\n        \"semantic_type\": \"\",\n        \"description\": \"\"\n      }\n    }\n  ]\n}"
            }
          },
          "metadata": {},
          "execution_count": 5
        }
      ]
    },
    {
      "cell_type": "code",
      "source": [
        "### 테이블정의서 동일하게 타입을 정의해야 한다\n",
        "### 특성 숫자 컬럼 추가"
      ],
      "metadata": {
        "id": "UMPQ7UfJa6IL"
      },
      "execution_count": 6,
      "outputs": []
    },
    {
      "cell_type": "code",
      "source": [
        "### np.where, function, loc\n",
        "### 추가로 Label Encoder, Dictionary map 함수 써서 사용하는 방법!"
      ],
      "metadata": {
        "id": "-5rKeo1ybaAU"
      },
      "execution_count": 7,
      "outputs": []
    },
    {
      "cell_type": "code",
      "source": [
        "# featuresData[\"LE_PROMOTION\"] = np.where( featuresData.PROMOTION==\"Y\",1,0)\n",
        "# featuresData[\"LE_HOLIDAY\"] = np.where( featuresData.HOLIDAY==\"Y\",1,0)"
      ],
      "metadata": {
        "id": "ea3HuD7xbMnn"
      },
      "execution_count": 8,
      "outputs": []
    },
    {
      "cell_type": "code",
      "source": [
        "ynDict = {\"Y\":1,\"N\":0}\n",
        "featuresData[\"LE_PROMOTION\"] = featuresData.PROMOTION.map( ynDict )\n",
        "featuresData[\"LE_HOLIDAY\"] = featuresData.HOLIDAY.map( ynDict )"
      ],
      "metadata": {
        "id": "HTH8bEorcDd-"
      },
      "execution_count": 9,
      "outputs": []
    },
    {
      "cell_type": "code",
      "source": [
        "## 라벨 인코더\n",
        "ynLabel = LabelEncoder()\n",
        "featuresData[\"LE_PROMOTION\"] = ynLabel.fit_transform(featuresData.PROMOTION)\n",
        "# 각 데이터가 라벨링된 내용 확인 (카테고리 데이터를 정렬 오름차순 후 인덱싱)\n",
        "ynLabel.classes_\n",
        "featuresData[\"LE_INV_PROMOTION\"] = ynLabel.inverse_transform( featuresData.LE_PROMOTION )\n",
        "featuresData = featuresData.drop(columns=[\"LE_INV_PROMOTION\"] )"
      ],
      "metadata": {
        "id": "9qjzyOfbc3BZ"
      },
      "execution_count": 10,
      "outputs": []
    },
    {
      "cell_type": "markdown",
      "source": [
        "# 2. 특성 선정 및 데이터 분리"
      ],
      "metadata": {
        "id": "ht_1KkQ5ezf5"
      }
    },
    {
      "cell_type": "code",
      "source": [
        "### 특성 선정"
      ],
      "metadata": {
        "id": "WX5M4qb_fKtU"
      },
      "execution_count": 11,
      "outputs": []
    },
    {
      "cell_type": "code",
      "source": [
        "# 시뮬레이션 시 아래 방법 활용\n",
        "# simulCorrList = [0.3, 0.4, 0.5, 0.6, 0.7]\n",
        "# for i in range(0, len(simulCorrList)):"
      ],
      "metadata": {
        "id": "Ny2D4Meml4Xp"
      },
      "execution_count": 12,
      "outputs": []
    },
    {
      "cell_type": "code",
      "source": [
        "corrDf = featuresData.corr(method=\"pearson\", numeric_only=True)\n",
        "# 기준이 되는 상관계수를 어떻게 설정하느냐에 따라서\n",
        "stdCorr = 0.3\n",
        "label = [\"QTY\"]\n",
        "features = list( corrDf.loc[ (abs( corrDf.QTY) >= stdCorr) &\n",
        "                            (abs( corrDf.QTY) != 1)    ].index )\n",
        "print( f\"문제지 {features}, 정답지: {label} \" )\n",
        "### 데이터 분리 (시계열 데이터 접근하는 방법)\n",
        "### 다양한 데이터 분리 방법\n",
        "# 특정 시점으로 구분해서 시뮬레이션\n",
        "splitRatio = 0.8\n",
        "splitIndex = int( featuresData.shape[0] * splitRatio )\n",
        "targetColumns = [\"YEARWEEK\"]\n",
        "splitYearweek = featuresData.loc[ splitIndex, targetColumns ].values[0]\n",
        "\n",
        "testData = featuresData.loc[ featuresData.YEARWEEK > splitYearweek ]\n",
        "trainData = featuresData.loc[ featuresData.YEARWEEK <= splitYearweek ]\n",
        "testData = featuresData.loc[ featuresData.YEARWEEK > splitYearweek ]\n",
        "\n",
        "# TrainTestSplit 함수 활용 데이터 분리\n",
        "# trainData, testData = train_test_split( featuresData, test_size = 0.2, random_state = 255)\n",
        "\n",
        "trainingDataFeatures = trainData.loc[ :, features]\n",
        "trainingDataLabel = trainData.loc[ :, label]\n",
        "testDataFeatures = testData.loc[ :, features]\n",
        "testDataLabel = testData.loc[ :, label]\n",
        "\n",
        "print(trainingDataFeatures.shape)\n",
        "print(trainingDataLabel.shape)\n",
        "print(testDataFeatures.shape)\n",
        "print(testDataLabel.shape)\n",
        "### featuresData 연도로 구분한다  구분!\n",
        "### TrainData = 2015 TestData = 2016\n",
        "### trainingDataFeatures\n",
        "### testDataFeatures\n",
        "### trainingDataLabel\n",
        "### testDataLabel\n",
        "### 데이터 분리 (쉽게 접근하는 방법)\n",
        "# trainData, testData = train_test_split( featuresData, test_size=0.2, random_state=1 )\n",
        "# ## 훈련, 테스트데이터 내부에서 문제지 정답지 분리\n",
        "# trainingDataFeatures = trainData.loc[ :, features]\n",
        "# trainingDataLabel = trainData.loc[ :, label]\n",
        "# testDataFeatures = testData.loc[ :, features]\n",
        "# testDataLabel = testData.loc[ :, label]\n",
        "# print(trainingDataFeatures.shape)\n",
        "# print(trainingDataLabel.shape)\n",
        "# print(testDataFeatures.shape)\n",
        "# print(testDataLabel.shape)\n"
      ],
      "metadata": {
        "colab": {
          "base_uri": "https://localhost:8080/"
        },
        "id": "giQk_tcVnFvt",
        "outputId": "9061643a-b687-4eec-ce3a-33f661a2c8d4"
      },
      "execution_count": 13,
      "outputs": [
        {
          "output_type": "stream",
          "name": "stdout",
          "text": [
            "문제지 ['HCLUS', 'PRO_PERCENT', 'LE_PROMOTION', 'LE_HOLIDAY'], 정답지: ['QTY'] \n",
            "(85, 4)\n",
            "(85, 1)\n",
            "(20, 4)\n",
            "(20, 1)\n"
          ]
        }
      ]
    },
    {
      "cell_type": "markdown",
      "source": [
        "# 3. 모델 적용"
      ],
      "metadata": {
        "id": "ZtDwKxrn8Tgr"
      }
    },
    {
      "cell_type": "code",
      "source": [
        "from sklearn import ensemble"
      ],
      "metadata": {
        "id": "CAtpfeE-QG8A"
      },
      "execution_count": 14,
      "outputs": []
    },
    {
      "cell_type": "code",
      "source": [
        "rfModel = ensemble.RandomForestRegressor(n_estimators=5, random_state=1 )\n",
        "fittedRfModel = rfModel.fit( trainingDataFeatures, trainingDataLabel)\n",
        "\n",
        "# fig = plt.figure( figsize = (25,15))\n",
        "# plot_tree( fittedRfModel.estimators_[2] )\n",
        "# ## 트리 이미지 저장\n",
        "# plt.savefig(\"aa.png\")"
      ],
      "metadata": {
        "colab": {
          "base_uri": "https://localhost:8080/"
        },
        "id": "CF3IGoZ3QxIW",
        "outputId": "0a59ad6c-246f-41a3-d968-3be434e8e2f8"
      },
      "execution_count": 15,
      "outputs": [
        {
          "output_type": "stream",
          "name": "stderr",
          "text": [
            "/usr/local/lib/python3.10/dist-packages/sklearn/base.py:1152: DataConversionWarning: A column-vector y was passed when a 1d array was expected. Please change the shape of y to (n_samples,), for example using ravel().\n",
            "  return fit_method(estimator, *args, **kwargs)\n"
          ]
        }
      ]
    },
    {
      "cell_type": "code",
      "source": [
        "dtModel = tree.DecisionTreeRegressor( random_state= 1)\n",
        "fittedDtModel = dtModel.fit( trainingDataFeatures, trainingDataLabel )"
      ],
      "metadata": {
        "id": "1JCSCHe_QDyb"
      },
      "execution_count": 16,
      "outputs": []
    },
    {
      "cell_type": "code",
      "source": [
        "# # 예측 시뮬레이션\n",
        "# inHclus = 0\n",
        "# inPropercent = 0.25\n",
        "# inPromotion = 0\n",
        "# inHoliday = 0\n",
        "# testDf = pd.DataFrame( [[ inHclus,inPropercent, inPromotion, inHoliday   ]])\n",
        "# fittedDtModel.predict( testDf )\n",
        "### 트리분석\n",
        "# depth1 = trainData.loc[trainData.PRO_PERCENT <= 0.259]\n",
        "# depth2 = depth1.loc[depth1.LE_PROMOTION <= 0.5 ]\n",
        "# depth3 = depth2.loc[depth2.LE_HOLIDAY <= 0.5]\n",
        "# depth3.QTY.mean()\n",
        "# fig = plt.figure( figsize = (25,15))\n",
        "# plot_tree( fittedDtModel )\n",
        "# ## 트리 이미지 저장\n",
        "# plt.savefig(\"aa.png\")"
      ],
      "metadata": {
        "id": "s8rzeUZsymuI"
      },
      "execution_count": 17,
      "outputs": []
    },
    {
      "cell_type": "markdown",
      "source": [
        "# 4. 예측"
      ],
      "metadata": {
        "id": "VOt--M-WTdZT"
      }
    },
    {
      "cell_type": "code",
      "source": [
        "rfPredictValue = fittedRfModel.predict( testDataFeatures )\n",
        "dtPredictValue = fittedDtModel.predict( testDataFeatures )"
      ],
      "metadata": {
        "id": "8hOt4xN1Tynt"
      },
      "execution_count": 18,
      "outputs": []
    },
    {
      "cell_type": "code",
      "source": [
        "# 5. 데이터 정리\n",
        "testDataLabel[\"PREDICT_DT\"] = dtPredictValue\n",
        "testDataLabel[\"PREDICT_RF\"] = rfPredictValue"
      ],
      "metadata": {
        "id": "9KFk7V0YTcDD"
      },
      "execution_count": 19,
      "outputs": []
    },
    {
      "cell_type": "code",
      "source": [
        "resultDf = testDataLabel.reset_index()"
      ],
      "metadata": {
        "id": "zuiBAyITWn3-"
      },
      "execution_count": 20,
      "outputs": []
    },
    {
      "cell_type": "code",
      "source": [
        "fig = plt.figure(figsize=(14,5))\n",
        "plt.plot(resultDf.QTY, \"bo-\", lw=1.5, label=\"QTY\")\n",
        "plt.plot(resultDf.PREDICT_DT, \"r--\", lw=1, label=\"PREDICT_DT\")\n",
        "plt.plot(resultDf.PREDICT_RF, \"g--\", lw=1, label=\"PREDICT_RF\")\n",
        "plt.ylabel(\"sellout\")\n",
        "plt.xlabel(\"index\")\n",
        "plt.grid(True)\n",
        "plt.title(\" sellout FCST DT vs RF \")\n",
        "plt.legend()\n",
        "# X축 눈금 형식 설정"
      ],
      "metadata": {
        "colab": {
          "base_uri": "https://localhost:8080/",
          "height": 481
        },
        "id": "VaNmCIXzUY1m",
        "outputId": "876831ae-40c0-4f58-d862-c43a5eadc5d3"
      },
      "execution_count": 21,
      "outputs": [
        {
          "output_type": "execute_result",
          "data": {
            "text/plain": [
              "<matplotlib.legend.Legend at 0x7f60e5101e40>"
            ]
          },
          "metadata": {},
          "execution_count": 21
        },
        {
          "output_type": "display_data",
          "data": {
            "text/plain": [
              "<Figure size 1400x500 with 1 Axes>"
            ],
            "image/png": "[encoded data removed]"
          },
          "metadata": {}
        }
      ]
    },
    {
      "cell_type": "code",
      "source": [
        "# 정확도 검증\n",
        "from sklearn.metrics import mean_absolute_error, mean_squared_error, mean_absolute_percentage_error\n",
        "maeDt = mean_absolute_error( testDataLabel.QTY, testDataLabel.PREDICT_DT )\n",
        "rmseDt = np.sqrt( mean_squared_error( testDataLabel.QTY, testDataLabel.PREDICT_DT ) )\n",
        "mean_absolute_percentage_error( testDataLabel.QTY, testDataLabel.PREDICT_DT )\n",
        "print( stdCorr, maeDt, rmseDt)\n",
        "# accuracyMatrix = pd.DataFrame( [ [stdCorr, maeDt, rmseDt]], columns = [\"CORR_STD\",\"MAE_DT\", \"RMSE_DT\"] )\n",
        "# accuracyMatrix"
      ],
      "metadata": {
        "id": "E5SVBxIZUQKU",
        "colab": {
          "base_uri": "https://localhost:8080/"
        },
        "outputId": "d0d19795-accd-4cf7-bbc0-6a0ebfb3d50d"
      },
      "execution_count": 22,
      "outputs": [
        {
          "output_type": "stream",
          "name": "stdout",
          "text": [
            "0.3 462.0403571428572 611.3204622610646\n"
          ]
        }
      ]
    },
    {
      "cell_type": "markdown",
      "source": [
        "### 디버깅"
      ],
      "metadata": {
        "id": "4ALR5rm5nnv7"
      }
    },
    {
      "cell_type": "code",
      "source": [
        "# # dsimulCorrList[3]\n",
        "# i=3"
      ],
      "metadata": {
        "id": "h6icB6SNnr95"
      },
      "execution_count": 23,
      "outputs": []
    }
  ]
}