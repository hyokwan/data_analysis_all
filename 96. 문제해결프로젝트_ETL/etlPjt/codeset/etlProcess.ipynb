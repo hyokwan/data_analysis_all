{
  "cells": [
    {
      "cell_type": "code",
      "execution_count": null,
      "metadata": {
        "colab": {
          "base_uri": "https://localhost:8080/"
        },
        "id": "S7ByVj8aypN4",
        "outputId": "eb9bab36-0df0-40c4-bd5d-569204417683"
      },
      "outputs": [
        {
          "name": "stdout",
          "output_type": "stream",
          "text": [
            "Collecting korean_romanizer\n",
            "  Downloading korean_romanizer-0.25.1-py3-none-any.whl.metadata (869 bytes)\n",
            "Downloading korean_romanizer-0.25.1-py3-none-any.whl (18 kB)\n",
            "Installing collected packages: korean_romanizer\n",
            "Successfully installed korean_romanizer-0.25.1\n"
          ]
        }
      ],
      "source": [
        "!pip install korean_romanizer"
      ]
    },
    {
      "cell_type": "code",
      "execution_count": null,
      "metadata": {
        "colab": {
          "base_uri": "https://localhost:8080/"
        },
        "id": "7abrpul9pcOt",
        "outputId": "1254feff-a462-42a1-88d4-c4649528eb19"
      },
      "outputs": [
        {
          "name": "stdout",
          "output_type": "stream",
          "text": [
            "Requirement already satisfied: mysql-connector-python in /usr/local/lib/python3.10/dist-packages (9.0.0)\n"
          ]
        }
      ],
      "source": [
        "!pip install mysql-connector-python"
      ]
    },
    {
      "cell_type": "code",
      "execution_count": null,
      "metadata": {
        "colab": {
          "base_uri": "https://localhost:8080/"
        },
        "id": "_Fq9MyLdOnki",
        "outputId": "e0b02109-c5e4-4481-ca29-0c15014e3b8a"
      },
      "outputs": [
        {
          "name": "stdout",
          "output_type": "stream",
          "text": [
            "Drive already mounted at /content/gdrive; to attempt to forcibly remount, call drive.mount(\"/content/gdrive\", force_remount=True).\n",
            "/content/gdrive/MyDrive/Colab Notebooks/analysis_edu/etlPjt/codeset\n"
          ]
        }
      ],
      "source": [
        "from google.colab import drive\n",
        "drive.mount(\"/content/gdrive\")\n",
        "%cd /content/gdrive/MyDrive/Colab Notebooks/analysis_edu/etlPjt/codeset"
      ]
    },
    {
      "cell_type": "markdown",
      "metadata": {
        "id": "ZC3M--YVPDUY"
      },
      "source": [
        "# 라이브러리 선언"
      ]
    },
    {
      "cell_type": "code",
      "execution_count": null,
      "metadata": {
        "id": "Oax6q06POjCp"
      },
      "outputs": [],
      "source": [
        "import pandas as pd\n",
        "from sqlalchemy import create_engine, inspect"
      ]
    },
    {
      "cell_type": "code",
      "execution_count": null,
      "metadata": {
        "id": "fQQNwg89PRha"
      },
      "outputs": [],
      "source": [
        "import os\n",
        "import glob"
      ]
    },
    {
      "cell_type": "markdown",
      "metadata": {
        "id": "v24wo0Lalrkg"
      },
      "source": [
        "### 파라미터 정의"
      ]
    },
    {
      "cell_type": "code",
      "execution_count": null,
      "metadata": {
        "id": "1MGiWbBbmT4D"
      },
      "outputs": [],
      "source": [
        "try:\n",
        "    paramDf = pd.read_csv(\"./paramData.txt\")\n",
        "    # 기본값\n",
        "    dataRootPath = \"../dataset\"\n",
        "    # 경로 불러오기 (param_seg: folder_loc, param_value)\n",
        "    targetColumn = [\"param_value\"]\n",
        "    dataRootPath = paramDf.loc[ paramDf.param_seg==\"folder_loc\", targetColumn].values[0][0]\n",
        "except Exception as e:\n",
        "    print(e)"
      ]
    },
    {
      "cell_type": "code",
      "execution_count": null,
      "metadata": {
        "colab": {
          "base_uri": "https://localhost:8080/",
          "height": 35
        },
        "id": "sy83ixmDmmou",
        "outputId": "18e0af91-8c90-47c4-a167-1214a82a1683"
      },
      "outputs": [
        {
          "data": {
            "application/vnd.google.colaboratory.intrinsic+json": {
              "type": "string"
            },
            "text/plain": [
              "'../dataset'"
            ]
          },
          "execution_count": 98,
          "metadata": {},
          "output_type": "execute_result"
        }
      ],
      "source": [
        "dataRootPath"
      ]
    },
    {
      "cell_type": "code",
      "execution_count": null,
      "metadata": {
        "id": "7voKyUGFzapo"
      },
      "outputs": [],
      "source": [
        "mappingList = []"
      ]
    },
    {
      "cell_type": "markdown",
      "metadata": {
        "id": "QVpiKVhgOmpw"
      },
      "source": [
        "### 1. 데이터 불러오기 및 데이터 저장 (to MySQL) !!"
      ]
    },
    {
      "cell_type": "code",
      "execution_count": null,
      "metadata": {
        "colab": {
          "base_uri": "https://localhost:8080/"
        },
        "id": "Gn8-8hAOPil6",
        "outputId": "fb44ad68-d243-42aa-f888-92a8a97d3c03"
      },
      "outputs": [
        {
          "name": "stdout",
          "output_type": "stream",
          "text": [
            "['직급.csv', '근무지.csv', '부서.csv', '사원.csv', 'customerdata_out.xlsx', 'Untitled.ipynb']\n",
            "data 직급.csv saved in db as a jikgeup\n"
          ]
        }
      ],
      "source": [
        "### 1. os.listdir 활용\n",
        "fileNameList = os.listdir(dataRootPath)\n",
        "print( fileNameList )\n",
        "eachFileName = fileNameList[0]\n",
        "fileNamePath = os.path.join(dataRootPath, eachFileName)\n",
        "eachDf = pd.read_csv(fileNamePath, encoding=\"ms949\")\n",
        "eachDbName = eachFileName.split(\".\")[0]\n",
        "romanizer = Romanizer(name)\n",
        "tableName = romanizer.romanize()\n",
        "\n",
        "user = '접속아이디'\n",
        "password = '접속비번'\n",
        "host = '접속DB IP주소'\n",
        "port = '접속DB 포트번호'\n",
        "database = 'kopo'\n",
        "\n",
        "try:\n",
        "    # SQLAlchemy 엔진 생성\n",
        "    engine = create_engine(f'mysql+mysqlconnector://{user}:{password}@{host}:{port}/{database}')\n",
        "\n",
        "    # 데이터프레임을 MySQL 데이터베이스의 테이블에 저장\n",
        "    table_name = eachDbName\n",
        "    eachDf.to_sql(name=table_name, con=engine, if_exists='replace', index=False)\n",
        "\n",
        "    mappingList.append( [eachFileName, tableName] )\n",
        "    print(f\"data {eachFileName} saved in db as a {tableName}\")\n",
        "except Exception as e:\n",
        "    print(e)"
      ]
    },
    {
      "cell_type": "code",
      "execution_count": null,
      "metadata": {
        "id": "_pI7Lg41scT0"
      },
      "outputs": [],
      "source": [
        "mappingTable = pd.DataFrame( mappingList, columns = [\"org_name\",\"new_name\"])"
      ]
    }
  ],
  "metadata": {
    "colab": {
      "provenance": []
    },
    "kernelspec": {
      "display_name": "Python 3",
      "name": "python3"
    },
    "language_info": {
      "name": "python"
    }
  },
  "nbformat": 4,
  "nbformat_minor": 0
}
